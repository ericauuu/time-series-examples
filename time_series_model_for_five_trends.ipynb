{
 "cells": [
  {
   "cell_type": "code",
   "execution_count": null,
   "metadata": {},
   "outputs": [],
   "source": [
    "import pandas as pd\n",
    "import numpy as np\n",
    "from matplotlib import pyplot as plt\n",
    "%matplotlib inline\n",
    "from sklearn.linear_model import LinearRegression\n",
    "from sklearn.preprocessing import OneHotEncoder"
   ]
  },
  {
   "cell_type": "code",
   "execution_count": null,
   "metadata": {},
   "outputs": [],
   "source": [
    "def load_trend(trend_name='football', country_code='us'):\n",
    "    df = pd.read_csv('data/google-trends_'\n",
    "                     + trend_name + '_'\n",
    "                     + country_code\n",
    "                     + '.csv').iloc[1:, :]\n",
    "    df.columns = ['values']\n",
    "    df['values'] = df['values'].str.replace('<1', '0').astype(int)\n",
    "    return df"
   ]
  },
  {
   "cell_type": "code",
   "execution_count": null,
   "metadata": {},
   "outputs": [],
   "source": [
    "df = load_trend(**{'trend_name': 'data-science', 'country_code': 'us'})\n",
    "#keyword arguments "
   ]
  },
  {
   "cell_type": "code",
   "execution_count": null,
   "metadata": {},
   "outputs": [],
   "source": [
    "trends = [\n",
    "    {'trend_name': 'data-science', 'country_code': 'us'},\n",
    "    {'trend_name': 'football', 'country_code': 'us'},\n",
    "    {'trend_name': 'football', 'country_code': 'uk'},\n",
    "    {'trend_name': 'game-of-thrones', 'country_code': 'us'},\n",
    "    {'trend_name': 'pokemon', 'country_code': 'us'},\n",
    "    {'trend_name': 'taxes', 'country_code': 'us'},   \n",
    "]"
   ]
  },
  {
   "cell_type": "code",
   "execution_count": null,
   "metadata": {},
   "outputs": [],
   "source": [
    "np.random.shuffle(trends)"
   ]
  },
  {
   "cell_type": "code",
   "execution_count": null,
   "metadata": {},
   "outputs": [],
   "source": [
    "trend_dfs = [load_trend(**trend) for trend in trends]"
   ]
  },
  {
   "cell_type": "code",
   "execution_count": null,
   "metadata": {},
   "outputs": [],
   "source": [
    "trend_df = trend_dfs[0]"
   ]
  },
  {
   "cell_type": "code",
   "execution_count": null,
   "metadata": {},
   "outputs": [],
   "source": [
    "import matplotlib; matplotlib.style.use('ggplot')\n",
    "\n",
    "fig, axs = plt.subplots(len(trend_dfs), 1, figsize=(8, 10))\n",
    "plt.tight_layout()\n",
    "for i, trend_df in enumerate(trend_dfs):\n",
    "    ax = axs[i]\n",
    "    #ax.set_title(str(trends[i]))\n",
    "    ax.plot(trend_df.index, trend_df['values'])\n",
    "    ticks = ax.get_xticks()\n",
    "    ax.set_ylim((0, 100))\n",
    "    ax.set_xticks([tick for tick in ticks if tick%24 == 0])"
   ]
  },
  {
   "cell_type": "code",
   "execution_count": null,
   "metadata": {},
   "outputs": [],
   "source": [
    "trends"
   ]
  },
  {
   "cell_type": "markdown",
   "metadata": {},
   "source": [
    "## Game of Thrones - Time Series"
   ]
  },
  {
   "cell_type": "code",
   "execution_count": null,
   "metadata": {},
   "outputs": [],
   "source": [
    "got_df = load_trend('game-of-thrones')\n",
    "got_df['i'] = np.arange(len(got_df))\n",
    "got_df['month'] = got_df['i'] % 12\n",
    "got_df = got_df.loc[~(got_df['i']<=83)]"
   ]
  },
  {
   "cell_type": "code",
   "execution_count": null,
   "metadata": {},
   "outputs": [],
   "source": [
    "got_df['month'] +=1\n",
    "# got_df"
   ]
  },
  {
   "cell_type": "code",
   "execution_count": null,
   "metadata": {},
   "outputs": [],
   "source": [
    "trend_model = LinearRegression()\n",
    "trend_model.fit(got_df[['i']], got_df['values'])\n",
    "trend_line = trend_model.predict(got_df[['i']])"
   ]
  },
  {
   "cell_type": "code",
   "execution_count": null,
   "metadata": {},
   "outputs": [],
   "source": [
    "month_encoder = OneHotEncoder(categories='auto')\n",
    "month_encoder.fit(got_df[['month']])\n",
    "month_data = month_encoder.transform(got_df[['month']]).toarray()"
   ]
  },
  {
   "cell_type": "code",
   "execution_count": null,
   "metadata": {},
   "outputs": [],
   "source": [
    "lr = LinearRegression()\n",
    "data = np.hstack((got_df[['i']].values, month_data))\n",
    "lr.fit(data, got_df['values'])\n",
    "lr_pred = lr.predict(data)  # Predixctive model based on i and month"
   ]
  },
  {
   "cell_type": "code",
   "execution_count": null,
   "metadata": {},
   "outputs": [],
   "source": [
    "trend_df = got_df\n",
    "fig, ax = plt.subplots(figsize=(8, 4))\n",
    "ax.set_title('Game of Thrones Trend')\n",
    "ax.plot(got_df['i'], trend_df['values'], label='Data',\n",
    "       linewidth=.5, alpha=.8)\n",
    "ax.plot(trend_df['i'], trend_line, label='Trend')\n",
    "ax.plot(trend_df['i'], lr_pred, label='Regression', linestyle=\"dotted\")\n",
    "plt.legend()\n",
    "ticks = ax.get_xticks()\n",
    "ax.set_ylim((0, 100))\n",
    "ax.set_xticks([tick for tick in ticks if tick%24 == 0])\n",
    "plt.show()"
   ]
  },
  {
   "cell_type": "code",
   "execution_count": null,
   "metadata": {},
   "outputs": [],
   "source": [
    "residuals = trend_df['values'] - lr_pred\n",
    "\n",
    "fig, ax = plt.subplots(figsize=(8, 4))\n",
    "ax.set_title(\"Residuals\")\n",
    "ax.plot(trend_df['i'], trend_df['values'], label='Data',\n",
    "       linewidth=.5, alpha=.8)\n",
    "ax.plot(trend_df['i'], lr_pred, label='Regression', linestyle=\"dotted\")\n",
    "ax.plot(trend_df['i'], residuals,\n",
    "        label='Residuals', linewidth=.5)\n",
    "\n",
    "#ax.plot(trend_df.index, trend_line, label='trend')\n",
    "plt.legend()\n",
    "ticks = ax.get_xticks()\n",
    "ax.set_ylim((-10, 90))\n",
    "ax.set_xticks([tick for tick in ticks if tick%24 == 0])\n",
    "plt.show()"
   ]
  },
  {
   "cell_type": "markdown",
   "metadata": {},
   "source": [
    "## Data Science Trend - Time Series"
   ]
  },
  {
   "cell_type": "code",
   "execution_count": null,
   "metadata": {},
   "outputs": [],
   "source": [
    "datasci_df = load_trend('data-science')\n",
    "datasci_df['i'] = np.arange(len(datasci_df))\n",
    "datasci_df['month'] = datasci_df['i'] % 12"
   ]
  },
  {
   "cell_type": "code",
   "execution_count": null,
   "metadata": {},
   "outputs": [],
   "source": [
    "datasci_df['month'] += 1"
   ]
  },
  {
   "cell_type": "code",
   "execution_count": null,
   "metadata": {},
   "outputs": [],
   "source": [
    "datasci_df = datasci_df.loc[datasci_df['i']>107]\n",
    "datasci_df"
   ]
  },
  {
   "cell_type": "code",
   "execution_count": null,
   "metadata": {},
   "outputs": [],
   "source": [
    "trend_model = LinearRegression()\n",
    "trend_model.fit(datasci_df[['i']], datasci_df['values'])\n",
    "trend_line = trend_model.predict(datasci_df[['i']])"
   ]
  },
  {
   "cell_type": "code",
   "execution_count": null,
   "metadata": {},
   "outputs": [],
   "source": [
    "month_encoder = OneHotEncoder(categories='auto')\n",
    "month_encoder.fit(datasci_df[['month']])\n",
    "month_data = month_encoder.transform(datasci_df[['month']]).toarray()"
   ]
  },
  {
   "cell_type": "code",
   "execution_count": null,
   "metadata": {},
   "outputs": [],
   "source": [
    "lr = LinearRegression()\n",
    "data = np.hstack((datasci_df[['i']].values, month_data))\n",
    "lr.fit(data, datasci_df['values'])\n",
    "lr_pred = lr.predict(data)  # Predixctive model based on i and month"
   ]
  },
  {
   "cell_type": "code",
   "execution_count": null,
   "metadata": {},
   "outputs": [],
   "source": [
    "trend_df = datasci_df\n",
    "fig, ax = plt.subplots(figsize=(8, 4))\n",
    "ax.set_title('Data Science Trend')\n",
    "ax.plot(datasci_df['i'], trend_df['values'], label='Data',\n",
    "       linewidth=.5, alpha=.8)\n",
    "ax.plot(trend_df['i'], trend_line, label='Trend')\n",
    "ax.plot(trend_df['i'], lr_pred, label='Regression', linestyle=\"dotted\")\n",
    "plt.legend()\n",
    "ticks = ax.get_xticks()\n",
    "ax.set_ylim((0, 100))\n",
    "ax.set_xticks([tick for tick in ticks if tick%24 == 0])\n",
    "plt.show()"
   ]
  },
  {
   "cell_type": "code",
   "execution_count": null,
   "metadata": {},
   "outputs": [],
   "source": [
    "residuals = trend_df['values'] - lr_pred\n",
    "\n",
    "fig, ax = plt.subplots(figsize=(8, 4))\n",
    "ax.set_title(\"Residuals\")\n",
    "ax.plot(trend_df['i'], trend_df['values'], label='Data',\n",
    "       linewidth=.5, alpha=.8)\n",
    "ax.plot(trend_df['i'], lr_pred, label='Regression', linestyle=\"dotted\")\n",
    "ax.plot(trend_df['i'], residuals,\n",
    "        label='Residuals', linewidth=.5)\n",
    "\n",
    "#ax.plot(trend_df.index, trend_line, label='trend')\n",
    "plt.legend()\n",
    "ticks = ax.get_xticks()\n",
    "ax.set_ylim((-10, 90))\n",
    "ax.set_xticks([tick for tick in ticks if tick%24 == 0])\n",
    "plt.show()"
   ]
  },
  {
   "cell_type": "markdown",
   "metadata": {},
   "source": [
    "## Taxes in US Trend - Time Series"
   ]
  },
  {
   "cell_type": "code",
   "execution_count": null,
   "metadata": {},
   "outputs": [],
   "source": [
    "taxes_df = load_trend('taxes')\n",
    "taxes_df['i'] = np.arange(len(taxes_df))\n",
    "taxes_df['month'] = taxes_df['i'] % 12"
   ]
  },
  {
   "cell_type": "code",
   "execution_count": null,
   "metadata": {},
   "outputs": [],
   "source": [
    "taxes_df['month'] += 1\n",
    "#fix how the month numbers in the month column from 0 represents jan to 1 represents jan"
   ]
  },
  {
   "cell_type": "code",
   "execution_count": null,
   "metadata": {},
   "outputs": [],
   "source": [
    "# taxes_df"
   ]
  },
  {
   "cell_type": "code",
   "execution_count": null,
   "metadata": {},
   "outputs": [],
   "source": [
    "trend_model = LinearRegression()\n",
    "trend_model.fit(taxes_df[['i']], taxes_df['values'])\n",
    "trend_line = trend_model.predict(taxes_df[['i']])"
   ]
  },
  {
   "cell_type": "code",
   "execution_count": null,
   "metadata": {},
   "outputs": [],
   "source": [
    "month_encoder = OneHotEncoder(categories='auto')\n",
    "month_encoder.fit(taxes_df[['month']])\n",
    "month_data = month_encoder.transform(taxes_df[['month']]).toarray()"
   ]
  },
  {
   "cell_type": "code",
   "execution_count": null,
   "metadata": {},
   "outputs": [],
   "source": [
    "lr = LinearRegression()\n",
    "data = np.hstack((taxes_df[['i']].values, month_data))\n",
    "lr.fit(data, taxes_df['values'])\n",
    "lr_pred = lr.predict(data)  # Predixctive model based on i and month"
   ]
  },
  {
   "cell_type": "code",
   "execution_count": null,
   "metadata": {},
   "outputs": [],
   "source": [
    "trend_df = taxes_df\n",
    "fig, ax = plt.subplots(figsize=(8, 4))\n",
    "ax.set_title('Taxes')\n",
    "ax.plot(trend_df['i'], trend_df['values'], label='Data',\n",
    "       linewidth=.5, alpha=.8)\n",
    "ax.plot(trend_df['i'], trend_line, label='Trend')\n",
    "ax.plot(trend_df['i'], lr_pred, label='Regression', linestyle=\"dotted\")\n",
    "plt.legend()\n",
    "ticks = ax.get_xticks()\n",
    "ax.set_ylim((0, 100))\n",
    "ax.set_xticks([tick for tick in ticks if tick%24 == 0])\n",
    "plt.show()"
   ]
  },
  {
   "cell_type": "code",
   "execution_count": null,
   "metadata": {},
   "outputs": [],
   "source": [
    "residuals = trend_df['values'] - lr_pred\n",
    "\n",
    "fig, ax = plt.subplots(figsize=(8, 4))\n",
    "ax.set_title(\"Residuals\")\n",
    "ax.plot(trend_df['i'], trend_df['values'], label='Data',\n",
    "       linewidth=.5, alpha=.8)\n",
    "ax.plot(trend_df['i'], lr_pred, label='Regression', linestyle=\"dotted\")\n",
    "ax.plot(trend_df['i'], residuals,\n",
    "        label='Residuals', linewidth=.5)\n",
    "\n",
    "#ax.plot(trend_df.index, trend_line, label='trend')\n",
    "plt.legend()\n",
    "ticks = ax.get_xticks()\n",
    "ax.set_ylim((-10, 90))\n",
    "ax.set_xticks([tick for tick in ticks if tick%24 == 0])\n",
    "plt.show()"
   ]
  },
  {
   "cell_type": "markdown",
   "metadata": {},
   "source": [
    "## Create Functions for working with time series model"
   ]
  },
  {
   "cell_type": "code",
   "execution_count": null,
   "metadata": {},
   "outputs": [],
   "source": [
    "def fit_trend_model(trend_df):\n",
    "    trend_df['i'] = np.arange(len(trend_df))\n",
    "    trend_df['month'] = trend_df['i'] % 12\n",
    "    trend_model = LinearRegression()\n",
    "    trend_model.fit(trend_df[['i']], trend_df['values'])\n",
    "    trend_line = trend_model.predict(trend_df[['i']])\n",
    "    month_encoder = OneHotEncoder(categories='auto')\n",
    "    month_encoder.fit(trend_df[['month']])\n",
    "    month_data = month_encoder.transform(trend_df[['month']]).toarray()\n",
    "    lr = LinearRegression()\n",
    "    data = np.hstack((trend_df[['i']].values, month_data))\n",
    "    lr.fit(data, trend_df['values'])\n",
    "    return lr\n",
    "\n",
    "def get_prediction_for_trend(topic, country):\n",
    "    trend_df = load_trend(topic, country)\n",
    "    lr = fit_trend_model(trend_df)\n",
    "    lr_pred = lr.predict(data) # Predixctive model based on i and month\n",
    "    return lr_pred\n",
    "#lr_pred = get_prediction_for_trend('football', 'uk')\n",
    "\n",
    "def plot_predictions(topic, country):\n",
    "    trend_df = load_trend(topic, country)\n",
    "    trend_df['i'] = np.arange(len(trend_df))\n",
    "    trend_df['month'] = trend_df['i'] % 12\n",
    "    trend_df['month'] += 1\n",
    "    lr_pred = get_prediction_for_trend(topic, country)\n",
    "    fig, ax = plt.subplots(figsize=(8, 4))\n",
    "    #ax.set_title('Google Trends')\n",
    "    ax.set_title(topic.title() + ' ' + country.upper() + ' ' + 'Trend')\n",
    "    ax.plot(trend_df['i'], trend_df['values'], label='Data',\n",
    "      linewidth=.5, alpha=.8)\n",
    "    ax.plot(trend_df['i'], lr_pred, label='Regression', linestyle=\"dotted\")\n",
    "    plt.legend()\n",
    "    ticks = ax.get_xticks()\n",
    "    ax.set_ylim((0, 100))\n",
    "    ax.set_xticks([tick for tick in ticks if tick%24 == 0])\n",
    "    plt.show()\n",
    "\n",
    "plot_predictions('football', 'uk')"
   ]
  },
  {
   "cell_type": "code",
   "execution_count": null,
   "metadata": {},
   "outputs": [],
   "source": [
    "plot_predictions('football', 'us')"
   ]
  },
  {
   "cell_type": "markdown",
   "metadata": {},
   "source": [
    "## Conclusion\n",
    "\n",
    "traditional time series forcasting comes before data science ever exists, it's important to be aware of trying to predict something new(the sales for the new product), try to look at different features/variables that might impact the market and sales for the particular new product segement, then do a prediction for the possible sales result for the new product. "
   ]
  }
 ],
 "metadata": {
  "kernelspec": {
   "display_name": "Python 3",
   "language": "python",
   "name": "python3"
  },
  "language_info": {
   "codemirror_mode": {
    "name": "ipython",
    "version": 3
   },
   "file_extension": ".py",
   "mimetype": "text/x-python",
   "name": "python",
   "nbconvert_exporter": "python",
   "pygments_lexer": "ipython3",
   "version": "3.6.6"
  }
 },
 "nbformat": 4,
 "nbformat_minor": 2
}
